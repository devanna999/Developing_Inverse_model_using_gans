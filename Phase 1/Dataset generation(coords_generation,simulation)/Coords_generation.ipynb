{
 "cells": [
  {
   "cell_type": "code",
   "execution_count": 1,
   "id": "1a1a96f1",
   "metadata": {},
   "outputs": [],
   "source": [
    "import numpy as np\n",
    "import matplotlib.pyplot as plt\n",
    "from shapes import *"
   ]
  },
  {
   "cell_type": "code",
   "execution_count": 3,
   "id": "70e4aa16",
   "metadata": {},
   "outputs": [
    {
     "ename": "SyntaxError",
     "evalue": "invalid syntax. Perhaps you forgot a comma? (31462184.py, line 2)",
     "output_type": "error",
     "traceback": [
      "\u001b[0;36m  File \u001b[0;32m\"/tmp/ipykernel_1374922/31462184.py\"\u001b[0;36m, line \u001b[0;32m2\u001b[0m\n\u001b[0;31m    def generate_Npoint_shape(N=8,M=1 res=100):\u001b[0m\n\u001b[0m                                    ^\u001b[0m\n\u001b[0;31mSyntaxError\u001b[0m\u001b[0;31m:\u001b[0m invalid syntax. Perhaps you forgot a comma?\n"
     ]
    }
   ],
   "source": [
    "\n",
    "# where N is number of randomnly chosen radial points, M =order(num_of_terms) while taking simulation,res is the num of coords generated)\n",
    "def generate_Npoint_shape(N=8,M=1 res=100):\n",
    "    #random.seed(1516)\n",
    "    bad_shape =True\n",
    "    while bad_shape == True:\n",
    "        pos_r = np.random.uniform(0,0.5,(N))\n",
    "        #pos_thet = np.random.uniform(0,2*np.pi,(1,N))\n",
    "        pos_thet =np.linspace(0,2*np.pi,num=N,endpoint=False)\n",
    "        posx = pos_r*np.cos(pos_thet)\n",
    "        posy = pos_r*np.sin(pos_thet)\n",
    "        pos = np.row_stack((posx,posy))\n",
    "        center = np.mean(pos,axis=1)\n",
    "        r = pos - center[:,np.newaxis]\n",
    "        r_mag  = np.sqrt(r[0,:]**2 + r[1,:]**2)\n",
    "        x = np.zeros((2,np.shape(r)[1]))\n",
    "        x[0,:] = 1\n",
    "        costh =np.diag(np.matmul(r.T,x))#r.x\n",
    "        costh = costh/r_mag\n",
    "        theta = np.arccos(costh)\n",
    "        ry = r[1,:]\n",
    "        rx = r[0,:]\n",
    "        neg = np.where(ry<0)\n",
    "        theta[neg] = 2*np.pi - theta[neg]\n",
    "        #print(r)\n",
    "        #print(theta)\n",
    "        rx = rx[np.argsort(theta)]\n",
    "        ry = ry[np.argsort(theta)]\n",
    "        theta = theta[np.argsort(theta)]\n",
    "        #print(rx,ry)\n",
    "        #print(theta)\n",
    "        b = np.append(rx,ry)\n",
    "        #print(np.shape(b))\n",
    "        #M = 4\n",
    "        m =  2*M+1\n",
    "        A = np.zeros((N,m))\n",
    "        A[:,0] = 1.0\n",
    "        for j in range(1,M+1):\n",
    "            A[:,2*j-1] = np.cos(j*theta)\n",
    "            A[:,2*j]   = np.sin(j*theta)\n",
    "        # Use the same A for both x and y coordinates.\n",
    "\n",
    "        AA = np.matmul(A.T,A)\n",
    "        #print(\"solving\")\n",
    "        #print(np.shape(AA))\n",
    "        #print(np.shape(rx))\n",
    "        coeffs_x = np.linalg.solve(AA,np.matmul(A.T,rx))\n",
    "        coeffs_y = np.linalg.solve(AA,np.matmul(A.T,ry))\n",
    "        coeffs = np.row_stack((coeffs_x,coeffs_y))\n",
    "        #oeffs = scale_area(coeffs)\n",
    "            #coeffs[:,2*mi-1,np.newaxis]*np.cos( mi*tt) + coeffs[:,2*mi,np.newaxis]*np.sin(mi*tt)\n",
    "        #np.cos(M*theta)\n",
    "        t = np.linspace(0, 2.0*np.pi, num=res, endpoint=True)\n",
    "        dt = t[1]-t[0]\n",
    "        coords = fourier2Cart(coeffs,t)\n",
    "        coords_prime = np.gradient(coords,dt,axis=1)\n",
    "        integrand = coords_prime[1,:] * coords[0,:]\n",
    "        area = np.trapz(integrand, x=t)\n",
    "        self_intersection = check_self_intersection(coords) \n",
    "        scale = np.sqrt(0.5 / np.absolute(area))\n",
    "        coeffs = scale * coeffs\n",
    "        coords = fourier2Cart(coeffs,t)\n",
    "        domain_intersection = check_domain_intersection(coords)\n",
    "        #bad_shape = False\n",
    "        bad_shape = self_intersection or domain_intersection\n",
    "        \n",
    "#    pl.figure(figsize=(8,4))\n",
    "#    pl.subplot(121,projection='polar')\n",
    "#    pl.plot(pos_thet,pos_r,'o')\n",
    "#    pl.grid(True)\n",
    "#    pl.subplot(122)\n",
    "#    pl.axis('equal')\n",
    "#     pl.xlim(-0.5,0.5)\n",
    "#     pl.ylim(-0.5,0.5)\n",
    "#     pl.plot(r[0,:],r[1,:],'o')\n",
    "#     pl.plot(coords[0,:],coords[1,:],'r-')\n",
    "       \n",
    "    shape={\"coeffs\":coeffs,\n",
    "           \"coords\":coords}\n",
    "    \n",
    "    #pl.plot(coords[0,:],coords[1,:],'-')\n",
    "    return shape\n"
   ]
  },
  {
   "cell_type": "code",
   "execution_count": 4,
   "id": "f59e046d",
   "metadata": {},
   "outputs": [
    {
     "name": "stdout",
     "output_type": "stream",
     "text": [
      "Percent: [###############] 99.9%  0.0 minn"
     ]
    }
   ],
   "source": [
    "# Now I have learnt to generate one shape for one random seed, I need to generate atleast 5000 images here.\n",
    "from shapes import *\n",
    "\n",
    "random.seed(1000)\n",
    "np.random.seed(1000)\n",
    "Num_shapes = 1000\n",
    "shape_names = []\n",
    "#nr = Num_shapes // 5\n",
    "#width = 10\n",
    "#height = nr * width/5\n",
    "#pl.figure(figsize=(8,height))\n",
    "start_t = time.time()\n",
    "# m = 0 \n",
    "\n",
    "for i in range(Num_shapes):\n",
    "    m = 1\n",
    "    update_progress(i/Num_shapes,start_t,time.time() )\n",
    "    shape = generate_Npoint_shape(8,m, 100)### changed from 12 to 8 \n",
    "    name = write_shape(shape)\n",
    "     #coeffs = shape[\"coeffs\"]\n",
    "    #coords = shape[\"coords\"]\n",
    "     #print(i)\n",
    "    #showImageinArray(i,20,coords)\n",
    "     #    print(W[\"area\"],W[\"perimeter\"])\n",
    " ##    shape_names.append(name)\n",
    " #pl.show()"
   ]
  },
  {
   "cell_type": "code",
   "execution_count": null,
   "id": "6ec13deb",
   "metadata": {},
   "outputs": [],
   "source": []
  }
 ],
 "metadata": {
  "kernelspec": {
   "display_name": "Python 3 (ipykernel)",
   "language": "python",
   "name": "python3"
  },
  "language_info": {
   "codemirror_mode": {
    "name": "ipython",
    "version": 3
   },
   "file_extension": ".py",
   "mimetype": "text/x-python",
   "name": "python",
   "nbconvert_exporter": "python",
   "pygments_lexer": "ipython3",
   "version": "3.10.4"
  }
 },
 "nbformat": 4,
 "nbformat_minor": 5
}
